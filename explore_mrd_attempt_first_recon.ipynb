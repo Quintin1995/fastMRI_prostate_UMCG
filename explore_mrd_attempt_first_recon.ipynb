{
 "cells": [
  {
   "attachments": {},
   "cell_type": "markdown",
   "metadata": {},
   "source": [
    "# Import Packages and must load functions\n",
    "\n",
    "\n",
    "\n",
    "\n",
    "This is an old script\n"
   ]
  },
  {
   "cell_type": "code",
   "execution_count": 2,
   "metadata": {},
   "outputs": [
    {
     "name": "stdout",
     "output_type": "stream",
     "text": [
      "c:\\Users\\qvloh\\Documents\\phd_lok\\repos\\umcglib\\src\\umcglib\\kspace\n"
     ]
    }
   ],
   "source": [
    "import os\n",
    "import ismrmrd\n",
    "import ismrmrd.xsd\n",
    "import glob\n",
    "import numpy as np\n",
    "import SimpleITK as sitk\n",
    "from ismrmrdtools import show, transform\n",
    "import matplotlib.pyplot as plt\n",
    "import h5py\n",
    "\n",
    "# based on https://github.com/ismrmrd/ismrmrd-python-tools/blob/master/recon_ismrmrd_dataset.py\n",
    "\n",
    "def load_mrd_file_get_enc(filename):\n",
    "    # Load file and return the encoding space of the first encoding space in the file (assuming only one)\n",
    "    if not os.path.isfile(filename):\n",
    "        print(\"%s is not a valid file\" % filename)\n",
    "        raise SystemExit\n",
    "    dset = ismrmrd.Dataset(filename, create_if_needed=False)\n",
    "    header = ismrmrd.xsd.CreateFromDocument(dset.read_xml_header())\n",
    "    return header.encoding[0]\n",
    "\n",
    "\n",
    "def print_stats_dset(dset) -> None:\n",
    "    '''Print stats of the dataset dset'''\n",
    "    header = ismrmrd.xsd.CreateFromDocument(dset.read_xml_header())\n",
    "    enc = header.encoding[0]\n",
    "    \n",
    "    ncoils = header.acquisitionSystemInformation.receiverChannels\n",
    "    nslices = enc.encodingLimits.slice.maximum + 1 if enc.encodingLimits.slice else 1\n",
    "    nreps = enc.encodingLimits.repetition.maximum + 1 if enc.encodingLimits.repetition else 1\n",
    "    ncontrasts = enc.encodingLimits.contrast.maximum + 1 if enc.encodingLimits.contrast else 1\n",
    "    print(f\"number of coils: {ncoils}, number of slices: {nslices}, number of repetitions: {nreps}, number of contrasts: {ncontrasts}\")\n",
    "\n",
    "\n",
    "def load_mrd_file_get_dset(filename):\n",
    "    if not os.path.isfile(filename):\n",
    "        print(\"%s is not a valid file\" % filename)\n",
    "        raise SystemExit\n",
    "    return ismrmrd.Dataset(filename, create_if_needed=False)\n",
    "    \n",
    "\n",
    "def find_noise_scan(dset) -> None:\n",
    "    # Find the noise scan in the dataset and return the acquisition number of the first imaging scan\n",
    "    firstacq=0\n",
    "    print(\"Number of acquisitions: \", dset.number_of_acquisitions())\n",
    "    for acqnum in range(dset.number_of_acquisitions()):\n",
    "        acq = dset.read_acquisition(acqnum)\n",
    "        # TODO: Currently ignoring noise scans\n",
    "        if acq.isFlagSet(ismrmrd.ACQ_IS_NOISE_MEASUREMENT):\n",
    "            print(\"Found noise scan at acq \", acqnum)\n",
    "            continue\n",
    "        else:\n",
    "            firstacq = acqnum\n",
    "            print(\"Imaging acquisition starts acq \", acqnum)\n",
    "            break\n",
    "    print(\"First acquisition: \", firstacq)\n",
    "\n",
    "\n",
    "def print_stats_of_enc(enc):\n",
    "    # print stats of encoding space\n",
    "    print(\"\\n\\tMatrix size: \")\n",
    "    print('\\t', enc.encodedSpace.matrixSize.x, enc.encodedSpace.matrixSize.y, enc.encodedSpace.matrixSize.z)\n",
    "    print('\\t', \"Field of View encoded space: \")\n",
    "    print('\\t', enc.encodedSpace.fieldOfView_mm.x, enc.encodedSpace.fieldOfView_mm.y, enc.encodedSpace.fieldOfView_mm.z)\n",
    "    print('\\t', \"Field of View recon space: \")\n",
    "    print('\\t', enc.reconSpace.fieldOfView_mm.x, enc.reconSpace.fieldOfView_mm.y, enc.reconSpace.fieldOfView_mm.z)\n",
    "    print('\\t', \"Number of Slices: \")\n",
    "    print('\\t', enc.encodingLimits.slice.maximum)\n",
    "    print('\\t', \"Number of Repetitions: \")\n",
    "    print('\\t', enc.encodingLimits.repetition.maximum)\n",
    "    print('\\t', \"Number of Contrasts: \")\n",
    "    print('\\t', enc.encodingLimits.contrast.maximum)\n",
    "    print('\\t', \"Number of Averages: \")\n",
    "    print('\\t', enc.encodingLimits.average.maximum)\n",
    "    print('\\t', \"Number of Phases: \")\n",
    "    print('\\t', enc.encodingLimits.phase.maximum)\n",
    "    print('\\t', \"Number of Sets: \")\n",
    "    print('\\t', enc.encodingLimits.set.maximum, '\\n')\n",
    "\n",
    "\n",
    "# Get all the T2W scans paths\n",
    "def get_all_t2w_paths(verbatim=False):\n",
    "    # Get all T2 TSE tra scans with glob pattern that satisfies the condition k_space_data_anon_output/*_patient_umcg_done/kspaces/meas_*_T2_TSE_tra_*.mrd'\n",
    "    all_paths = glob.glob('k_space_data_anon_output/*_patient_umcg_done/kspaces/meas_*_T2_TSE_tra_*.mrd')\n",
    "    # now also glob the pattern  k_space_data_anon_output/*_patient_umcg_done/kspaces/meas_*_t2_tse_tra_*.mrd'\n",
    "    all_paths += glob.glob('k_space_data_anon_output/*_patient_umcg_done/kspaces/meas_*_t2_tse_tra_*.mrd')\n",
    "    if verbatim:\n",
    "        _ = [print(p) for p in all_paths]\n",
    "        print('Number of scans: ', len(all_paths), '\\n')\n",
    "    return all_paths\n",
    "\n",
    "print(os.getcwd())"
   ]
  },
  {
   "attachments": {},
   "cell_type": "markdown",
   "metadata": {},
   "source": [
    "# Some path data of the .mrd files\n"
   ]
  },
  {
   "cell_type": "code",
   "execution_count": 2,
   "metadata": {},
   "outputs": [],
   "source": [
    "# filename = 'k_space_data_anon_output/0001_patient_umcg_done/kspaces/meas_MID00202_FID688156_T2_TSE_tra_obl-out_2.mrd'\n",
    "# filename = 'k_space_data_anon_output/0002_patient_umcg_done/kspaces/meas_MID00039_FID701346_T2_TSE_tra_obl-out_2.mrd'\n",
    "# filename = 'k_space_data_anon_output/0003_patient_umcg_done/kspaces/meas_MID00401_FID373323_t2_tse_traobl_p2_384-out_2.mrd'\n",
    "# filename = 'k_space_data_anon_output/0004_patient_umcg_done/kspaces/meas_MID00460_FID707792_T2_TSE_tra_obl-out_2.mrd'\n",
    "# filename = 'k_space_data_anon_output/0005_patient_umcg_done/kspaces/meas_MID00427_FID709025_T2_TSE_tra_obl-out_2.mrd'\n",
    "# filename = 'k_space_data_anon_output/0006_patient_umcg_done/kspaces/meas_MID00392_FID708990_T2_TSE_tra_obl-out_2.mrd'\n",
    "# filename = 'k_space_data_anon_output/0007_patient_umcg_done/kspaces/meas_MID00670_FID710360_T2_TSE_tra_obl-out_2.mrd'\n",
    "# filename = 'k_space_data_anon_output/0008_patient_umcg_done/kspaces/meas_MID00220_FID710578_T2_TSE_tra_obl-out_2.mrd'\n",
    "# filename = 'k_space_data_anon_output/0008_patient_umcg_done/kspaces/meas_MID00224_FID710582_T2_TSE_tra_obl-out_2.mrd'\n",
    "# filename = 'k_space_data_anon_output/0009_patient_umcg_done/kspaces/meas_MID00693_FID711732_T2_TSE_tra_obl-out_2.mrd'\n",
    "# filename = 'k_space_data_anon_output/0009_patient_umcg_done/kspaces/meas_MID00701_FID711740_T2_TSE_tra_obl-out_2.mrd'\n",
    "# filename = 'k_space_data_anon_output/0010_patient_umcg_done/kspaces/meas_MID00060_FID711794_T2_TSE_tra_obl-out_2.mrd'"
   ]
  },
  {
   "attachments": {},
   "cell_type": "markdown",
   "metadata": {},
   "source": [
    "# Finding Noise scans - Sandbox\n"
   ]
  },
  {
   "cell_type": "code",
   "execution_count": 5,
   "metadata": {},
   "outputs": [
    {
     "name": "stdout",
     "output_type": "stream",
     "text": [
      "Number of acquisitions:  26351\n",
      "Found noise scan at acq  0\n",
      "Imaging acquisition starts acq  1\n",
      "First acquisition:  1\n"
     ]
    }
   ],
   "source": [
    "workdir = os.path.join(\"c:\\\\\", \"Users\", \"qvloh\", \"Documents\", \"phd_lok\", \"datasets\", \"umcg_prostate_kspace\", \"workspace\", \"output\", \"anon_kspaces\")\n",
    "\n",
    "# patient kspace file:\n",
    "fname = os.path.join(\"0001_patient_umcg_done\", 'meas_MID00202_FID688156_T2_TSE_tra_obl-out_2.mrd')\n",
    "fpath_t2tra = os.path.join(workdir, fname)\n",
    "\n",
    "# load the dataset\n",
    "dset = load_mrd_file_get_dset(fpath_t2tra)\n",
    "\n",
    "# Finding noise scans\n",
    "find_noise_scan(dset)"
   ]
  },
  {
   "attachments": {},
   "cell_type": "markdown",
   "metadata": {},
   "source": [
    "# All Header Information\n"
   ]
  },
  {
   "cell_type": "code",
   "execution_count": 10,
   "metadata": {},
   "outputs": [],
   "source": [
    "dset = ismrmrd.Dataset(fpath_t2tra, create_if_needed=False)\n",
    "header = ismrmrd.xsd.CreateFromDocument(dset.read_xml_header())\n",
    "\n",
    "def print_headers(header):\n",
    "    header_dict = vars(header)\n",
    "    for key, value in header_dict.items():\n",
    "        print(f\"{key}:\")\n",
    "        if isinstance(value, type):\n",
    "            for attr_name, attr_value in vars(value).items():\n",
    "                print(f\"\\t{attr_name}: {attr_value}\")\n",
    "        else:\n",
    "            print(f\"\\t{value}\")"
   ]
  },
  {
   "attachments": {},
   "cell_type": "markdown",
   "metadata": {},
   "source": [
    "## Subject Information (Header info)\n"
   ]
  },
  {
   "cell_type": "code",
   "execution_count": 11,
   "metadata": {},
   "outputs": [
    {
     "name": "stdout",
     "output_type": "stream",
     "text": [
      "patientName:\n",
      "\tNone\n",
      "patientWeight_kg:\n",
      "\t85.0\n",
      "patientHeight_m:\n",
      "\tNone\n",
      "patientID:\n",
      "\tNone\n",
      "patientBirthdate:\n",
      "\tNone\n",
      "patientGender:\n",
      "\tM\n"
     ]
    }
   ],
   "source": [
    "print_headers(header.subjectInformation)"
   ]
  },
  {
   "attachments": {},
   "cell_type": "markdown",
   "metadata": {},
   "source": [
    "## Measurement Information (Header info)\n"
   ]
  },
  {
   "cell_type": "code",
   "execution_count": 12,
   "metadata": {},
   "outputs": [
    {
     "name": "stdout",
     "output_type": "stream",
     "text": [
      "measurementID:\n",
      "\t46133_14111923_14111931_202\n",
      "seriesDate:\n",
      "\tNone\n",
      "seriesTime:\n",
      "\tNone\n",
      "patientPosition:\n",
      "\tpatientPositionType.HFS\n",
      "relativeTablePosition:\n",
      "\tNone\n",
      "initialSeriesNumber:\n",
      "\tNone\n",
      "protocolName:\n",
      "\tT2_TSE_tra obl\n",
      "sequenceName:\n",
      "\tNone\n",
      "seriesDescription:\n",
      "\tNone\n",
      "measurementDependency:\n",
      "\t[measurementDependencyType(dependencyType='SenMap', measurementID='46133_14111923_14111931_198'), measurementDependencyType(dependencyType='Noise', measurementID='46133_14111923_14111931_198')]\n",
      "seriesInstanceUIDRoot:\n",
      "\tNone\n",
      "frameOfReferenceUID:\n",
      "\tNone\n",
      "referencedImageSequence:\n",
      "\tNone\n"
     ]
    }
   ],
   "source": [
    "print_headers(header.measurementInformation)"
   ]
  },
  {
   "attachments": {},
   "cell_type": "markdown",
   "metadata": {},
   "source": [
    "## Acquisition Information (Header info)\n"
   ]
  },
  {
   "cell_type": "code",
   "execution_count": 130,
   "metadata": {},
   "outputs": [
    {
     "name": "stdout",
     "output_type": "stream",
     "text": [
      "systemVendor:\n",
      "\tSIEMENS\n",
      "systemModel:\n",
      "\tSkyra\n",
      "systemFieldStrength_T:\n",
      "\t2.89362\n",
      "relativeReceiverNoiseBandwidth:\n",
      "\t0.793\n",
      "receiverChannels:\n",
      "\t20\n",
      "coilLabel:\n",
      "\t[coilLabelType(coilNumber=49, coilName='Body_18:1:B22'), coilLabelType(coilNumber=50, coilName='Body_18:1:B21'), coilLabelType(coilNumber=37, coilName='Spine_32:1:S52'), coilLabelType(coilNumber=38, coilName='Spine_32:1:S51'), coilLabelType(coilNumber=18, coilName='Body_18:1:B35'), coilLabelType(coilNumber=17, coilName='Body_18:1:B36'), coilLabelType(coilNumber=30, coilName='Body_18:1:B24'), coilLabelType(coilNumber=29, coilName='Body_18:1:B23'), coilLabelType(coilNumber=54, coilName='Body_18:1:B33'), coilLabelType(coilNumber=53, coilName='Body_18:1:B34'), coilLabelType(coilNumber=45, coilName='Spine_32:1:S63'), coilLabelType(coilNumber=46, coilName='Spine_32:1:S64'), coilLabelType(coilNumber=33, coilName='Spine_32:1:S54'), coilLabelType(coilNumber=34, coilName='Spine_32:1:S53'), coilLabelType(coilNumber=25, coilName='Body_18:1:B31'), coilLabelType(coilNumber=26, coilName='Body_18:1:B32'), coilLabelType(coilNumber=22, coilName='Spine_32:1:S61'), coilLabelType(coilNumber=21, coilName='Spine_32:1:S62'), coilLabelType(coilNumber=42, coilName='Body_18:1:B26'), coilLabelType(coilNumber=41, coilName='Body_18:1:B25')]\n",
      "institutionName:\n",
      "\tUMCG/ M5\n",
      "stationName:\n",
      "\tNone\n",
      "deviceID:\n",
      "\t46133\n",
      "deviceSerialNumber:\n",
      "\tNone\n"
     ]
    }
   ],
   "source": [
    "print_headers(header.acquisitionSystemInformation)"
   ]
  },
  {
   "attachments": {},
   "cell_type": "markdown",
   "metadata": {},
   "source": [
    "## Encoding Information Encoded Space and Reconspace (Header info)"
   ]
  },
  {
   "cell_type": "code",
   "execution_count": 131,
   "metadata": {},
   "outputs": [
    {
     "name": "stdout",
     "output_type": "stream",
     "text": [
      "ENCODED SPACE\n",
      "matrixSize:\n",
      "\tmatrixSizeType(x=640, y=688, z=1)\n",
      "fieldOfView_mm:\n",
      "\tfieldOfViewMm(x=360.0, y=386.640015, z=4.5)\n",
      "\n",
      "RECON SPACE\n",
      "matrixSize:\n",
      "\tmatrixSizeType(x=640, y=640, z=1)\n",
      "fieldOfView_mm:\n",
      "\tfieldOfViewMm(x=180.0, y=180.0, z=3.0)\n"
     ]
    }
   ],
   "source": [
    "print('ENCODED SPACE')\n",
    "print_headers(header.encoding[0].encodedSpace)\n",
    "\n",
    "print('\\nRECON SPACE')\n",
    "print_headers(header.encoding[0].reconSpace)\n"
   ]
  },
  {
   "attachments": {},
   "cell_type": "markdown",
   "metadata": {},
   "source": [
    "## Encoding Limits (header info)"
   ]
  },
  {
   "cell_type": "code",
   "execution_count": 132,
   "metadata": {},
   "outputs": [
    {
     "name": "stdout",
     "output_type": "stream",
     "text": [
      "kspace_encoding_step_0:\n",
      "\tNone\n",
      "kspace_encoding_step_1:\n",
      "\tlimitType(minimum=0, maximum=550, center=275)\n",
      "kspace_encoding_step_2:\n",
      "\tlimitType(minimum=0, maximum=0, center=0)\n",
      "average:\n",
      "\tlimitType(minimum=0, maximum=2, center=0)\n",
      "slice:\n",
      "\tlimitType(minimum=0, maximum=30, center=0)\n",
      "contrast:\n",
      "\tlimitType(minimum=0, maximum=0, center=0)\n",
      "phase:\n",
      "\tlimitType(minimum=0, maximum=0, center=0)\n",
      "repetition:\n",
      "\tlimitType(minimum=0, maximum=0, center=0)\n",
      "set:\n",
      "\tlimitType(minimum=0, maximum=0, center=0)\n",
      "segment:\n",
      "\tlimitType(minimum=0, maximum=0, center=0)\n",
      "user_0:\n",
      "\tNone\n",
      "user_1:\n",
      "\tNone\n",
      "user_2:\n",
      "\tNone\n",
      "user_3:\n",
      "\tNone\n",
      "user_4:\n",
      "\tNone\n",
      "user_5:\n",
      "\tNone\n",
      "user_6:\n",
      "\tNone\n",
      "user_7:\n",
      "\tNone\n"
     ]
    }
   ],
   "source": [
    "print_headers(header.encoding[0].encodingLimits)"
   ]
  },
  {
   "attachments": {},
   "cell_type": "markdown",
   "metadata": {},
   "source": [
    "## Parallel Imaging (Header Info)"
   ]
  },
  {
   "cell_type": "code",
   "execution_count": 133,
   "metadata": {},
   "outputs": [
    {
     "name": "stdout",
     "output_type": "stream",
     "text": [
      "accelerationFactor:\n",
      "\taccelerationFactorType(kspace_encoding_step_1=2, kspace_encoding_step_2=1)\n",
      "calibrationMode:\n",
      "\tcalibrationModeType.INTERLEAVED\n",
      "interleavingDimension:\n",
      "\tinterleavingDimensionType.AVERAGE\n"
     ]
    }
   ],
   "source": [
    "print_headers(header.encoding[0].parallelImaging)"
   ]
  },
  {
   "attachments": {},
   "cell_type": "markdown",
   "metadata": {},
   "source": [
    "## Sequence Parameters (Header info)"
   ]
  },
  {
   "cell_type": "code",
   "execution_count": 134,
   "metadata": {},
   "outputs": [
    {
     "name": "stdout",
     "output_type": "stream",
     "text": [
      "TR:\n",
      "\t[8990.0]\n",
      "TE:\n",
      "\t[112.0]\n",
      "TI:\n",
      "\t[100.0]\n",
      "flipAngle_deg:\n",
      "\t[150.0]\n",
      "sequence_type:\n",
      "\tTurboSpinEcho\n",
      "echo_spacing:\n",
      "\t[11.18]\n",
      "diffusion:\n",
      "\t[]\n"
     ]
    }
   ],
   "source": [
    "print_headers(header.sequenceParameters)"
   ]
  },
  {
   "attachments": {},
   "cell_type": "markdown",
   "metadata": {},
   "source": [
    "# Convert to fastMRI data numpy format"
   ]
  },
  {
   "attachments": {},
   "cell_type": "markdown",
   "metadata": {},
   "source": [
    "### Helper Functions"
   ]
  },
  {
   "cell_type": "code",
   "execution_count": 11,
   "metadata": {},
   "outputs": [],
   "source": [
    "def get_first_acquisition(dset):\n",
    "    firstacq = 0\n",
    "    for acqnum in range(dset.number_of_acquisitions()):\n",
    "        acq = dset.read_acquisition(acqnum)\n",
    "        if acq.isFlagSet(ismrmrd.ACQ_IS_NOISE_MEASUREMENT):\n",
    "            continue\n",
    "        else:\n",
    "            firstacq = acqnum\n",
    "            print(\"Imaging acquisition starts acq \", acqnum)\n",
    "            break\n",
    "    return firstacq\n",
    "\n",
    "\n",
    "def zero_padding(data):\n",
    "    sh_x, sh_y = [len(data[0,0,0,0,0]), len(data[0,0,0,0,0,0])]\n",
    "    im_x, im_y = 2 * np.array([sh_x, sh_y])\n",
    "    x_0 = im_x // 2 - (sh_x // 2)\n",
    "    y_0 = im_y // 2 - (sh_y // 2)\n",
    "\n",
    "    y3_shape = list(data.shape)\n",
    "    y3_shape[5] *= 2\n",
    "    y3_shape[6] *= 2\n",
    "    y3 = np.zeros(y3_shape, dtype=np.complex64)\n",
    "\n",
    "    y3[:, :, :, :, :, x_0:x_0 + sh_x, y_0:y_0 + sh_y] = data[:, :, :, :, :, :, :]\n",
    "\n",
    "    return y3\n",
    "\n",
    "\n",
    "def image_order(npdata):\n",
    "    '''\n",
    "    The main changes are:\n",
    "\n",
    "    We calculate the half value using integer division (//) and add 1 to it. This is equivalent to rounding up.\n",
    "    We create the y3 output array using np.zeros_like to avoid having to specify the shape and data type explicitly.\n",
    "    Use advanced indexing to assign the even and odd slices directly from data to y3 in two vectorized operations. This should be significantly faster than using a loop.\n",
    "    '''\n",
    "\n",
    "    # Get the number of slices and calculate the half value (rounded up)\n",
    "    slices = npdata.shape[0]\n",
    "    half = (slices // 2)+1\n",
    "\n",
    "    # Create output array of the same shape and data type as the input array \n",
    "    y3 = np.zeros_like(npdata, dtype=np.complex64)\n",
    "\n",
    "    # Even slices first (0, 2, 4, ...) then odd slices (1, 3, 5, ...)\n",
    "    y3[::2] = npdata[:half]\n",
    "    y3[1::2] = npdata[half:]\n",
    "\n",
    "    return y3"
   ]
  },
  {
   "attachments": {},
   "cell_type": "markdown",
   "metadata": {},
   "source": [
    "### Functions to reorder the data into numpy arrays"
   ]
  },
  {
   "cell_type": "code",
   "execution_count": 16,
   "metadata": {},
   "outputs": [],
   "source": [
    "def get_first_acquisition(dset):\n",
    "    firstacq = 0\n",
    "    for acqnum in range(dset.number_of_acquisitions()):\n",
    "        acq = dset.read_acquisition(acqnum)\n",
    "        if acq.isFlagSet(ismrmrd.ACQ_IS_NOISE_MEASUREMENT):\n",
    "            continue\n",
    "        else:\n",
    "            firstacq = acqnum\n",
    "            print(\"Imaging acquisition starts acq \", acqnum)\n",
    "            break\n",
    "    return firstacq\n",
    "\n",
    "\n",
    "def echo_train_length(dset):\n",
    "    # This assumes:   (ET = echo train)\n",
    "    # The noise acquisitions are made in the beginning.\n",
    "    # The noise acquisition is made in the same slice as the first ET.\n",
    "    # There are multiple slices.\n",
    "    # After the first ET, it moves to the first ET of a different slice.\n",
    "    # The first ET has the same length as the other ones.\n",
    "\n",
    "    for n in range(dset.number_of_acquisitions()):\n",
    "        if dset.read_acquisition(n).isFlagSet(ismrmrd.ACQ_IS_NOISE_MEASUREMENT):\n",
    "            continue\n",
    "        else:\n",
    "            firstacq = n\n",
    "            break\n",
    "    for n in range(dset.number_of_acquisitions()):\n",
    "        if dset.read_acquisition(n)._head.idx.slice != dset.read_acquisition(0)._head.idx.slice:\n",
    "            return n - firstacq\n",
    "    raise Exception(\"Couldn't find different slices in the dataset\")\n",
    "\n",
    "\n",
    "def echo_train_count(dset):\n",
    "    # This assumes:\n",
    "    # All the assumptions of echo_train_length\n",
    "    # There are at least 2 averages (idx 0 and 1) avg0 and avg1\n",
    "    # Higher index averages are acquired later\n",
    "\n",
    "    enc = ismrmrd.xsd.CreateFromDocument(dset.read_xml_header()).encoding[0]\n",
    "\n",
    "    if enc.encodingLimits.slice != None:\n",
    "        nslices = enc.encodingLimits.slice.maximum + 1\n",
    "    else:\n",
    "        raise Exception(\"Couldn't find different slices in the dataset\")\n",
    "    \n",
    "    count = 0\n",
    "    for n in range(dset.number_of_acquisitions()):\n",
    "        if dset.read_acquisition(n)._head.idx.average == 2:\n",
    "            break\n",
    "        if dset.read_acquisition(n)._head.idx.average == 1:\n",
    "            count += 1\n",
    "\n",
    "    return int(count/(nslices * echo_train_length(dset)))\n",
    "\n",
    "\n",
    "def sample_data_ET_mask(dset, n_leave_ET=0):\n",
    "\n",
    "    '''\n",
    "    Arguments:\n",
    "        - dset: data set in ismrmrd format\n",
    "        - n_leave_ET: number of echo trains to remove from the end of the sampled data\n",
    "    \n",
    "    Returns:\n",
    "        - If \"n_leave_ET\" stays 0, only all_data is returned. \n",
    "        - If not, the function returns all_data, subsampled_data.\n",
    "    '''\n",
    "\n",
    "    # Read the header and get encoding information\n",
    "    header = ismrmrd.xsd.CreateFromDocument(dset.read_xml_header())\n",
    "    enc = header.encoding[0]\n",
    "\n",
    "    # Determine some parameters of the acquisition\n",
    "    ncoils     = header.acquisitionSystemInformation.receiverChannels\n",
    "    nslices    = enc.encodingLimits.slice.maximum + 1 if enc.encodingLimits.slice is not None else 1\n",
    "    eNy        = enc.encodedSpace.matrixSize.y\n",
    "    rNx        = enc.reconSpace.matrixSize.x\n",
    "    eTL        = echo_train_length(dset)\n",
    "    eTC        = echo_train_count(dset)\n",
    "    firstacq   = get_first_acquisition(dset)\n",
    "\n",
    "    print(f\"ncoils: {ncoils}, nslices: {nslices}, eNy: {eNy}, rNx: {rNx}, eTL: {eTL}, eTC: {eTC}, firstacq: {firstacq}\")\n",
    "\n",
    "    # Initialize the data arrays\n",
    "    fmri_ksp_format = np.zeros((nslices, ncoils, eNy + 1, rNx), dtype=np.complex64)\n",
    "    if n_leave_ET != 0:\n",
    "        fmri_ksp_format_sub = np.zeros((nslices, ncoils, eNy + 1, rNx), dtype=np.complex64)\n",
    "\n",
    "    # Loop through the rest of the acquisitions and fill the data array with the kspace data \n",
    "    for acqnum in range(firstacq, dset.number_of_acquisitions()):\n",
    "        acq    = dset.read_acquisition(acqnum)\n",
    "        slice1 = acq.idx.slice\n",
    "        y      = acq.idx.kspace_encode_step_1\n",
    "        av     = acq._head.idx.average + 1\n",
    "\n",
    "        print(f\"acqnum: {acqnum}, slice: {slice1}, y: {y}, av: {av} out of {dset.number_of_acquisitions()} acquistions\")\n",
    "        print()\n",
    "\n",
    "        if av == 1 or av == 2: #only getting the first two averages\n",
    "            fmri_ksp_format[slice1, :, y, :] = acq.data\n",
    "\n",
    "        if n_leave_ET != 0:\n",
    "            if (acqnum <= eTL * nslices * (1 + eTC * 2 - n_leave_ET)):\n",
    "                # Assumption: each of the 3 averages has 11 echo trains of 25 samples each.\n",
    "                # and there is another echo train in the beginning (1 + 11 * 3) * 25 * 31 slices.\n",
    "                # It also assumes the specific order of acquisitions: 1st ET for each slice, then 2nd ET for each slice...\n",
    "                #\n",
    "                # The last \"n_leave_ET\" ETs are removed by inversed order of aquisition from the end of the second average since it was considered as fully sampled, the k-space with the first two averages. \n",
    "                # If is wanted to remove from the end of the third change the if condition to: (acqnum <= eTL * nslices * (1 + eTC * 3 - n_leave_ET))\n",
    "                fmri_ksp_format_sub[slice1, :, y, :] = acq.data\n",
    "\n",
    "    # reorder the data from\n",
    "    fmri_ksp_format = image_order(fmri_ksp_format)\n",
    "    \n",
    "    if n_leave_ET == 0:\n",
    "        return fmri_ksp_format\n",
    "    else:\n",
    "        return fmri_ksp_format, fmri_ksp_format_sub\n",
    "\n",
    "\n",
    "def sample_data_ET_mask_qvl(dset, n_leave_ET=0):\n",
    "\n",
    "    '''\n",
    "    Arguments:\n",
    "        - dset: data set in ismrmrd format\n",
    "        - n_leave_ET: number of echo trains to remove from the end of the sampled data\n",
    "    \n",
    "    Returns:\n",
    "        - If \"n_leave_ET\" stays 0, only all_data is returned. \n",
    "        - If not, the function returns all_data, subsampled_data.\n",
    "    '''\n",
    "\n",
    "    # Read the header and get encoding information\n",
    "    header = ismrmrd.xsd.CreateFromDocument(dset.read_xml_header())\n",
    "    enc = header.encoding[0]\n",
    "\n",
    "    # Determine some parameters of the acquisition\n",
    "    ncoils     = header.acquisitionSystemInformation.receiverChannels\n",
    "    nslices    = enc.encodingLimits.slice.maximum + 1 if enc.encodingLimits.slice is not None else 1\n",
    "    eNy        = enc.encodedSpace.matrixSize.y\n",
    "    rNx        = enc.reconSpace.matrixSize.x\n",
    "    eTL        = echo_train_length(dset)\n",
    "    eTC        = echo_train_count(dset)\n",
    "    firstacq   = get_first_acquisition(dset)\n",
    "\n",
    "    # Initialize the data arrays\n",
    "    fmri_ksp_format = np.zeros((nslices, ncoils, eNy + 1, rNx), dtype=np.complex64)\n",
    "    if n_leave_ET != 0:\n",
    "        fmri_ksp_format_sub = np.zeros((nslices, ncoils, eNy + 1, rNx), dtype=np.complex64)\n",
    "\n",
    "    # Loop through the rest of the acquisitions and fill the data array with the kspace data \n",
    "    for acqnum in range(firstacq, dset.number_of_acquisitions()):\n",
    "        acq    = dset.read_acquisition(acqnum)\n",
    "        slice1 = acq.idx.slice\n",
    "        y      = acq.idx.kspace_encode_step_1\n",
    "        av     = acq._head.idx.average + 1\n",
    "\n",
    "        # print all vars nicely\n",
    "        print(f\"acqnum: {acqnum}, slice: {slice1}, y: {y}, av: {av} out of {dset.number_of_acquisitions()} acquistions\")\n",
    "        print()\n",
    "\n",
    "        if av == 1 or av == 2: #only getting the first two averages\n",
    "            fmri_ksp_format[slice1, :, y, :] = acq.data\n",
    "\n",
    "        if n_leave_ET != 0:\n",
    "            if (acqnum <= eTL * nslices * (1 + eTC * 2 - n_leave_ET)):\n",
    "                # Assumption: each of the 3 averages has 11 echo trains of 25 samples each.\n",
    "                # and there is another echo train in the beginning (1 + 11 * 3) * 25 * 31 slices.\n",
    "                # It also assumes the specific order of acquisitions: 1st ET for each slice, then 2nd ET for each slice...\n",
    "                #\n",
    "                # The last \"n_leave_ET\" ETs are removed by inversed order of aquisition from the end of the second average since it was considered as fully sampled, the k-space with the first two averages. \n",
    "                # If is wanted to remove from the end of the third change the if condition to: (acqnum <= eTL * nslices * (1 + eTC * 3 - n_leave_ET))\n",
    "                fmri_ksp_format_sub[slice1, :, y, :] = acq.data\n",
    "\n",
    "    # reorder the data from\n",
    "    fmri_ksp_format = image_order(fmri_ksp_format)\n",
    "    \n",
    "    if n_leave_ET == 0:\n",
    "        return fmri_ksp_format\n",
    "    else:\n",
    "        return fmri_ksp_format, fmri_ksp_format_sub"
   ]
  },
  {
   "attachments": {},
   "cell_type": "markdown",
   "metadata": {},
   "source": [
    "#### Loading the file\n"
   ]
  },
  {
   "cell_type": "code",
   "execution_count": 14,
   "metadata": {},
   "outputs": [
    {
     "name": "stdout",
     "output_type": "stream",
     "text": [
      "c:\\Users\\qvloh\\Documents\\phd_lok\\datasets\\umcg_prostate_kspace\\workspace\\output\\anon_kspaces\\0001_patient_umcg_done\\meas_MID00202_FID688156_T2_TSE_tra_obl-out_2.mrd\n",
      "0001\n"
     ]
    }
   ],
   "source": [
    "workdir = os.path.join(\"c:\\\\\", \"Users\", \"qvloh\", \"Documents\", \"phd_lok\", \"datasets\", \"umcg_prostate_kspace\", \"workspace\", \"output\", \"anon_kspaces\")\n",
    "\n",
    "# patient kspace file:\n",
    "fpath_t2tra = os.path.join(workdir, \"0001_patient_umcg_done\", 'meas_MID00202_FID688156_T2_TSE_tra_obl-out_2.mrd')\n",
    "print(fpath_t2tra)\n",
    "\n",
    "# Loading the data\n",
    "dset = ismrmrd.Dataset(fpath_t2tra, create_if_needed=False)\n",
    "\n"
   ]
  },
  {
   "attachments": {},
   "cell_type": "markdown",
   "metadata": {},
   "source": [
    "#### re-ordering kspace data into numpy data"
   ]
  },
  {
   "cell_type": "code",
   "execution_count": 18,
   "metadata": {},
   "outputs": [],
   "source": [
    "pat_dir_num = 10\n",
    "pat_num = fpath_t2tra.split('\\\\')[pat_dir_num].split('_')[0]\n",
    "print(pat_num)\n",
    "\n",
    "# save the fully sampled kspace to temp directory so that we can load it later and not constantly have to rebuild it.\n",
    "tmp_dir = os.path.join(\"c:\\\\\", \"Users\", \"qvloh\", \"Documents\", \"phd_lok\", \"datasets\", \"umcg_prostate_kspace\", \"workspace\", \"tmp\")\n",
    "\n",
    "# Reordering the kspace into a numpy array and saving it as a .npy file\n",
    "fs_ksp = sample_data_ET_mask_qvl(dset, n_leave_ET=0)\n",
    "np.save(os.path.join(tmp_dir, f'{pat_num}_fully_sampled.npy'), fs_ksp)\n",
    "print(f\"save to {os.path.join(tmp_dir, f'{pat_num}_fully_sampled.npy')}\")"
   ]
  },
  {
   "attachments": {},
   "cell_type": "markdown",
   "metadata": {},
   "source": [
    "## The Root sum of Squares to validate the data\n"
   ]
  },
  {
   "cell_type": "code",
   "execution_count": 63,
   "metadata": {},
   "outputs": [
    {
     "name": "stdout",
     "output_type": "stream",
     "text": [
      "(31, 20, 689, 640)\n",
      "complex64\n"
     ]
    }
   ],
   "source": [
    "# load the fully sampled kspace if not already loaded into RAM.\n",
    "# set to true if not loaded.\n",
    "\n",
    "if False:\n",
    "    fs_ksp = np.load(f'fully_sampled_kspaces_npy/pat{pat_num}_fully_sampled.npy')\n",
    "    print(fs_ksp.shape)\n",
    "    print(fs_ksp.dtype)"
   ]
  },
  {
   "cell_type": "code",
   "execution_count": 23,
   "metadata": {},
   "outputs": [
    {
     "name": "stdout",
     "output_type": "stream",
     "text": [
      "Fully sampled k-space shape: (31, 20, 689, 640)\n",
      "[[ 0.0000000e+00+0.0000000e+00j  0.0000000e+00+0.0000000e+00j\n",
      "   0.0000000e+00+0.0000000e+00j ...  0.0000000e+00+0.0000000e+00j\n",
      "   0.0000000e+00+0.0000000e+00j  0.0000000e+00+0.0000000e+00j]\n",
      " [ 9.4808638e-07-2.3117755e-06j  3.9634760e-06-8.1304461e-07j\n",
      "   1.5166588e-06+8.3656050e-06j ... -7.0617534e-07-2.4891924e-06j\n",
      "   2.9271469e-06-2.8405339e-06j -6.5169297e-07+1.3243407e-06j]\n",
      " [-4.4419430e-06+3.2605603e-06j  1.4733523e-06-4.0759332e-06j\n",
      "  -4.2151660e-06-5.5017881e-06j ... -1.7695129e-08+1.8223654e-06j\n",
      "   1.8554274e-06+9.4226561e-07j  2.4251640e-06-4.4028275e-06j]\n",
      " ...\n",
      " [ 0.0000000e+00+0.0000000e+00j  0.0000000e+00+0.0000000e+00j\n",
      "   0.0000000e+00+0.0000000e+00j ...  0.0000000e+00+0.0000000e+00j\n",
      "   0.0000000e+00+0.0000000e+00j  0.0000000e+00+0.0000000e+00j]\n",
      " [ 0.0000000e+00+0.0000000e+00j  0.0000000e+00+0.0000000e+00j\n",
      "   0.0000000e+00+0.0000000e+00j ...  0.0000000e+00+0.0000000e+00j\n",
      "   0.0000000e+00+0.0000000e+00j  0.0000000e+00+0.0000000e+00j]\n",
      " [ 0.0000000e+00+0.0000000e+00j  0.0000000e+00+0.0000000e+00j\n",
      "   0.0000000e+00+0.0000000e+00j ...  0.0000000e+00+0.0000000e+00j\n",
      "   0.0000000e+00+0.0000000e+00j  0.0000000e+00+0.0000000e+00j]]\n",
      "(0.0008246822+0.009418017j)\n",
      "(0.47073978+0.39512485j)\n"
     ]
    }
   ],
   "source": [
    "# Print the fully sampled kspace shape\n",
    "print(f'Fully sampled k-space shape: {fs_ksp.shape}')\n",
    "print(fs_ksp[0, 0, :, :])\n",
    "print(np.sum(fs_ksp[0, 0, :, :]))\n",
    "print(np.sum(fs_ksp))"
   ]
  },
  {
   "cell_type": "code",
   "execution_count": 24,
   "metadata": {},
   "outputs": [
    {
     "name": "stdout",
     "output_type": "stream",
     "text": [
      "Fully sampled k-space shape: (31, 20, 689, 640)\n",
      "Image array shape: (31, 689, 640)\n"
     ]
    },
    {
     "data": {
      "image/png": "[encoded data removed]",
      "text/plain": [
       "<Figure size 640x480 with 1 Axes>"
      ]
     },
     "metadata": {},
     "output_type": "display_data"
    }
   ],
   "source": [
    "# Print the fully sampled kspace shape\n",
    "print(f'Fully sampled k-space shape: {fs_ksp.shape}')\n",
    "\n",
    "# Read the header and get encoding information\n",
    "header = ismrmrd.xsd.CreateFromDocument(dset.read_xml_header())\n",
    "enc = header.encoding[0]\n",
    "\n",
    "# Determine some parameters of the acquisition\n",
    "rNx = enc.reconSpace.matrixSize.x\n",
    "eNy = enc.encodedSpace.matrixSize.y\n",
    "eNz = enc.encodedSpace.matrixSize.z\n",
    "ncoils = header.acquisitionSystemInformation.receiverChannels\n",
    "\n",
    "# Perform image reconstruction for each slice\n",
    "nslices = fs_ksp.shape[0]\n",
    "images = np.zeros((nslices, fs_ksp.shape[2], fs_ksp.shape[3]), dtype=np.float32)\n",
    "print(f'Image array shape: {images.shape}')\n",
    "\n",
    "for slice_ in range(nslices):\n",
    "    # Extract a single slice along the z direction\n",
    "    if fs_ksp.shape[1] > 1:\n",
    "        kspace_slice = fs_ksp[slice_, :, :, :]\n",
    "    else:\n",
    "        kspace_slice = fs_ksp[slice_, 0, :, :, :]\n",
    "\n",
    "    # Perform inverse Fourier transform to obtain image\n",
    "    im = transform.transform_kspace_to_image(kspace_slice, [1, 2])\n",
    "\n",
    "    # Root sum of squares\n",
    "    im = np.sqrt(np.sum(np.abs(im) ** 2, 0))\n",
    "\n",
    "    # Store the resulting image\n",
    "    images[slice_, :, :] = im\n",
    "\n",
    "# show an image with matplotlib\n",
    "plt.imshow((images[0,:,:]), cmap='gray')\n",
    "plt.show()"
   ]
  },
  {
   "cell_type": "code",
   "execution_count": 25,
   "metadata": {},
   "outputs": [
    {
     "name": "stdout",
     "output_type": "stream",
     "text": [
      "1\n"
     ]
    }
   ],
   "source": [
    "print(eNz)\n",
    "img = sitk.GetImageFromArray(images[:,:,:])\n",
    "sitk.WriteImage(img, os.path.join(tmp_dir, f'pat{pat_num}_rss_recon.nii.gz'))"
   ]
  }
 ],
 "metadata": {
  "kernelspec": {
   "display_name": "Python 3",
   "language": "python",
   "name": "python3"
  },
  "language_info": {
   "codemirror_mode": {
    "name": "ipython",
    "version": 3
   },
   "file_extension": ".py",
   "mimetype": "text/x-python",
   "name": "python",
   "nbconvert_exporter": "python",
   "pygments_lexer": "ipython3",
   "version": "3.11.4"
  },
  "orig_nbformat": 4
 },
 "nbformat": 4,
 "nbformat_minor": 2
}
