{
 "cells": [
  {
   "cell_type": "markdown",
   "id": "de3018e9",
   "metadata": {},
   "source": [
    "# SANDBOX\n"
   ]
  },
  {
   "cell_type": "markdown",
   "id": "afacfec0",
   "metadata": {},
   "source": [
    "# Test the local mrd dir"
   ]
  },
  {
   "cell_type": "code",
   "execution_count": null,
   "id": "a4f4c014",
   "metadata": {},
   "outputs": [],
   "source": [
    "from pathlib import Path\n",
    "\n",
    "local_dir = r\"\\\\zkh\\appdata\\research\\Radiology\\fastMRI_PCa\\03_data\\002_processed_pst_ksp_umcg_backup\\data\\pat_data\"\n",
    "local_dir = Path(local_dir) / \"0003_ANON5046358\" / \"mrds\" / \"meas_MID00401_FID373323_t2_tse_traobl_p2_384-out_2.mrd\"\n",
    "\n",
    "print(local_dir)\n",
    "# check if this is inddeed a file\n",
    "if local_dir.is_file():\n",
    "    print(\"File exists\")\n"
   ]
  },
  {
   "cell_type": "code",
   "execution_count": null,
   "id": "e904f5bf",
   "metadata": {},
   "outputs": [],
   "source": [
    "print(\"jemoeeer\")"
   ]
  }
 ],
 "metadata": {
  "kernelspec": {
   "display_name": ".venv",
   "language": "python",
   "name": "python3"
  },
  "language_info": {
   "name": "python",
   "version": "3.13.2"
  }
 },
 "nbformat": 4,
 "nbformat_minor": 5
}
